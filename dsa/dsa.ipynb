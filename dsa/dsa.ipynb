{
 "cells": [
  {
   "cell_type": "markdown",
   "metadata": {},
   "source": [
    "# Data Structures and Algorithms in Python"
   ]
  },
  {
   "cell_type": "markdown",
   "metadata": {},
   "source": [
    "### Data Structures used in Algorithms\n",
    "\n",
    "Algorithms need necessary in-memory data structures that can hold temporary data while executing. Choosing the right data structures is essential for their efficient implementation. Certain classes of algorithms are recursive or iterative in logic and need data structures that are specially designed for them. \n",
    "\n",
    "### Exploring data structures in Python\n",
    "\n",
    "In python, there are five various data structures that can be used to store collections:\n",
    "    - Lists: Ordered mutable sequences of elements\n",
    "    - Tuples: Ordered immutable sequences of elements\n",
    "    - Sets: Unordered bags of elements\n",
    "    - Dictionary: Unordered bags of key-value pairs\n",
    "    - Data frames: Two-dimensional structures to store two-dimensional data\n",
    "\n",
    "The time complexity of lists\n",
    "\n",
    "| Different methods\t| Time complexity |\n",
    "| ----------------- | --------------- |\n",
    "| Insert an element\t|O(1) |\n",
    "| Delete an element\t| O(n) (as in the worst case may have to iterate the whole list) |\n",
    "| Slicing a list\t| O(n) |\n",
    "| Element retrieval | O(n) | \n",
    "| Copy\t| O(n) |\n",
    "\n",
    "The time complexity of tuples\n",
    "| Function | Time Complexity |\n",
    "| -------- | --------------- |\n",
    "| Append   | O(1)            |\n",
    "\n",
    "The time complexity of dictionary\n",
    "| Dictionary  | Time complexity |\n",
    "| ----------- | --------------- |\n",
    "| Get a value or a key |\tO(1) |\n",
    "| Set a value or a key |\tO(1) |\n",
    "| Copy a dictionary |\tO(n)|\n",
    "\n",
    "The time complexity of sets\n",
    "| Sets |\tComplexity |\n",
    "| ---- | ------------- |\n",
    "| Add an element |\tO(1) |\n",
    "| Remove an element |\tO(1) |\n",
    "| Copy\t| O(n) |\n",
    "\n"
   ]
  },
  {
   "cell_type": "markdown",
   "metadata": {},
   "source": [
    "### Terminologies of DataFrames\n",
    "* Axis: In the pandas documentation, a single column or row of a DataFrame is called an Axis.\n",
    "* Axes: If there is more than one axis, they are called axes as a group.\n",
    "* Label: A DataFrame allows the naming of both columns and rows with what's called a label.\n",
    "\n",
    "### Creating a subset of a DataFrame\n",
    "* Column selection\n",
    "    df[['name', 'age']]\n",
    "    df.iloc[:, 3]\n",
    "* Row selection\n",
    "    df.iloc[1:3, :]\n",
    "\n",
    "```\n",
    "    df[df.age>30]\n",
    "    df[(df.age<35)&(df.decision==True)]\n",
    "```\n"
   ]
  },
  {
   "cell_type": "code",
   "execution_count": 5,
   "metadata": {},
   "outputs": [
    {
     "name": "stdout",
     "output_type": "stream",
     "text": [
      "  id    name  age  decision\n",
      "0  1  Flares   32      True\n",
      "1  2   Elena   33      True\n"
     ]
    }
   ],
   "source": [
    "# DataFrames\n",
    "import pandas as pd\n",
    "df = pd.DataFrame([\n",
    "    ['1', 'Flares', 32, True],\n",
    "    ['2', 'Elena', 33, True]\n",
    "], columns = ['id', 'name', 'age', 'decision'])\n",
    "print(df)"
   ]
  },
  {
   "cell_type": "markdown",
   "metadata": {},
   "source": [
    "### Matrix\n",
    "A matrix is a two-dimensional data structure with a fixed number of columns and rown. Each element of a matrix can be referred to by its column and the row. \n",
    "In Python, a matrix can be created by using the numpy array, as shown the following code."
   ]
  },
  {
   "cell_type": "code",
   "execution_count": 7,
   "metadata": {},
   "outputs": [
    {
     "name": "stdout",
     "output_type": "stream",
     "text": [
      "[[11 12 13]\n",
      " [21 22 23]\n",
      " [31 32 33]]\n",
      "[[11 21 31]\n",
      " [12 22 32]\n",
      " [13 23 33]]\n"
     ]
    }
   ],
   "source": [
    "# matrix\n",
    "import numpy as np\n",
    "my_matrix = np.array([[11, 12, 13], [21, 22, 23], [31, 32, 33]])\n",
    "print(my_matrix)\n",
    "print(my_matrix.transpose())"
   ]
  },
  {
   "cell_type": "markdown",
   "metadata": {},
   "source": [
    "### Abstract Data types\n",
    "1. Vector\n",
    "2. Stacks\n",
    "3. Queues\n",
    "5. Trees\n",
    "\n",
    "**Vector**\n",
    "A vector is a single dimensional structure to store data. They are one of the most popular data structures in Python. There are two ways of creating vectors in Python as follows:\n",
    "a. Using a python list: \n",
    "    my_vector = [22, 33, 44, 55]\n",
    "\n",
    "b. Using a numpy array:\n",
    "    my_vector = np.array([22, 33, 44, 55])\n",
    "\n",
    "**Stacks**\n",
    "A stack is a linear data structure to store a one-dimensional list. It can store items either in LIFO, FILO, \n",
    "Following are the operations related to stacks:\n",
    "    * is_empty: returns true if the stack is empty\n",
    "    * push: adds a new element\n",
    "    * pop: returns the element added most recently and removes it\n",
    "    "
   ]
  },
  {
   "cell_type": "code",
   "execution_count": 13,
   "metadata": {},
   "outputs": [
    {
     "name": "stdout",
     "output_type": "stream",
     "text": [
      "Blue\n"
     ]
    },
    {
     "data": {
      "text/plain": [
       "False"
      ]
     },
     "execution_count": 13,
     "metadata": {},
     "output_type": "execute_result"
    }
   ],
   "source": [
    "# stacks\n",
    "class Stack:\n",
    "    def __init__(self):\n",
    "        self.items = []\n",
    "        \n",
    "    def is_empty(self):\n",
    "        return self.items == []\n",
    "    \n",
    "    def push(self, item):\n",
    "        self.items.append(item)\n",
    "        \n",
    "    def pop(self):\n",
    "        return self.items.pop()\n",
    "        \n",
    "    def peek(self):\n",
    "        return self.items[len(self.items)-1]\n",
    "    \n",
    "    def size(self):\n",
    "        return len(self.items)\n",
    "    \n",
    "stack = Stack()\n",
    "stack.push(\"Red\")\n",
    "stack.push(\"Green\")\n",
    "stack.push(\"Blue\")\n",
    "print(stack.pop())\n",
    "stack.is_empty()"
   ]
  },
  {
   "cell_type": "markdown",
   "metadata": {},
   "source": [
    "**Queues**\n"
   ]
  }
 ],
 "metadata": {
  "kernelspec": {
   "display_name": "venv-dsa",
   "language": "python",
   "name": "python3"
  },
  "language_info": {
   "codemirror_mode": {
    "name": "ipython",
    "version": 3
   },
   "file_extension": ".py",
   "mimetype": "text/x-python",
   "name": "python",
   "nbconvert_exporter": "python",
   "pygments_lexer": "ipython3",
   "version": "3.10.6"
  },
  "orig_nbformat": 4
 },
 "nbformat": 4,
 "nbformat_minor": 2
}
